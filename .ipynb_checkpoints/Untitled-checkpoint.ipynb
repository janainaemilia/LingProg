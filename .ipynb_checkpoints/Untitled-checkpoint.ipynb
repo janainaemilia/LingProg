{
 "cells": [
  {
   "cell_type": "code",
   "execution_count": null,
   "metadata": {},
   "outputs": [],
   "source": [
    "string = input(\"Digite um texto qualquer: \")\n",
    "    \n",
    "translation = {\"a\": 4, \"A\": 4, \"e\": 3, \"E\": 3, \"i\": 1, \"i\": 1, \"o\": 0, \"O\": 0, \"t\": 7, \"T\": 7, \"s\": '$', \"S\": '$', 'you': 'j00', \"YOU\": 'j00'}\n",
    "\n",
    "string.translate(str.maketrans(translation))\n",
    "\n",
    "print(string)"
   ]
  },
  {
   "cell_type": "code",
   "execution_count": null,
   "metadata": {},
   "outputs": [],
   "source": [
    "string = input(\"Digite um texto qualquer: \")\n",
    "    \n",
    "translation = {\"a\": 4, \"A\": 4, \"e\": 3, \"E\": 3, \"i\": 1, \"i\": 1, \"o\": 0, \"O\": 0, \"t\": 7, \"T\": 7, \"s\": '$', \"S\": '$', 'you': 'j00', \"YOU\": 'j00'}\n",
    "\n",
    "string.translate(str.maketrans(translation))\n",
    "\n",
    "print(string)"
   ]
  },
  {
   "cell_type": "code",
   "execution_count": null,
   "metadata": {},
   "outputs": [],
   "source": []
  }
 ],
 "metadata": {
  "kernelspec": {
   "display_name": "Python 3",
   "language": "python",
   "name": "python3"
  }
 },
 "nbformat": 4,
 "nbformat_minor": 2
}
