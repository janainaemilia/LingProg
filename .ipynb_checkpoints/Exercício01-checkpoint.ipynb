{
 "cells": [
  {
   "cell_type": "markdown",
   "metadata": {},
   "source": [
    "1- Faça um Programa que peça o raio de um círculo, calcule e\n",
    "mostre sua área."
   ]
  },
  {
   "cell_type": "code",
   "execution_count": null,
   "metadata": {},
   "outputs": [],
   "source": [
    "import math\n",
    "\n",
    "raio = float(input(\"Digite o valor do raio:\"))\n",
    "area = math.pi * (raio ** 2)\n",
    "\n",
    "print(\"A área do circulo é: \", area)"
   ]
  },
  {
   "cell_type": "markdown",
   "metadata": {},
   "source": [
    "2- Faça um Programa que calcule a área de um quadrado, em\n",
    "seguida mostre o dobro desta área para o usuário."
   ]
  },
  {
   "cell_type": "code",
   "execution_count": null,
   "metadata": {},
   "outputs": [],
   "source": [
    "base = float(input(\"Digite o valor da base:\"))\n",
    "altura = float(input(\"Digite o valor da altura:\"))\n",
    "area = (base * altura)\n",
    "\n",
    "print(\"O dobro da área do quadrado é: \", area*2)"
   ]
  },
  {
   "cell_type": "markdown",
   "metadata": {},
   "source": [
    "3- Faça um Programa que pergunte quanto você ganha por hora e o\n",
    "número de horas trabalhadas no mês. Calcule e mostre o total do\n",
    "seu salário no referido mês."
   ]
  },
  {
   "cell_type": "code",
   "execution_count": null,
   "metadata": {},
   "outputs": [],
   "source": [
    "valor_hora = float(input(\"Quanto você ganha por hora?\"))\n",
    "horas_mes = float(input(\"Quantas horas você trabalha por mês?\"))\n",
    "\n",
    "salario = valor_hora * horas_mes\n",
    "\n",
    "print(\"Seu salário mensal é: \", salario)"
   ]
  },
  {
   "cell_type": "markdown",
   "metadata": {},
   "source": [
    "4- Faça um Programa que peça a temperatura em graus Farenheit,\n",
    "transforme e mostre a temperatura em graus Celsius. C = (5 * (F-\n",
    "328 / 98."
   ]
  },
  {
   "cell_type": "code",
   "execution_count": null,
   "metadata": {},
   "outputs": [],
   "source": [
    "temperatura_f = float(input(\"Digite uma temperatura em Farenheit:\"))\n",
    "temperatura_c = (5 * (temperatura_f - 32)) / 9\n",
    "\n",
    "print(\"A temperatura em Celcius é: \", temperatura_c)"
   ]
  },
  {
   "cell_type": "markdown",
   "metadata": {},
   "source": [
    "5- Faça um Programa que peça a temperatura em graus Celsius,\n",
    "transforme e mostre em graus Farenheit."
   ]
  },
  {
   "cell_type": "code",
   "execution_count": null,
   "metadata": {},
   "outputs": [],
   "source": [
    "temperatura_c = float(input(\"Digite uma temperatura em Celsius:\"))\n",
    "temperatura_f = ((temperatura_c / 5) * 9) + 32\n",
    "\n",
    "print(\"A temperatura em Farenheit é: \", temperatura_f)"
   ]
  },
  {
   "cell_type": "markdown",
   "metadata": {},
   "source": [
    "6- Faça um Programa que peça 2 números inteiros e um número\n",
    "real. Calcule e mostre:\n",
    "- o produto do dobro do primeiro com metade do segundo .\n",
    "- a soma do triplo do primeiro com o terceiro.\n",
    "- o terceiro elevado ao cubo."
   ]
  },
  {
   "cell_type": "code",
   "execution_count": null,
   "metadata": {},
   "outputs": [],
   "source": [
    "a = int(input(\"Digite o valor de A:\"))\n",
    "b = int(input(\"Digite o valor de B:\"))\n",
    "c = float(input(\"Digite o valor de C:\"))\n",
    "\n",
    "print(\"O produto do dobro do primeiro com metade do segundo:\", (a * 2) * (b / 2))\n",
    "print(\"A soma do triplo do primeiro com o terceiro\", (a * 3) + c)\n",
    "print(\"O terceiro elevado ao cubo\", c ** 3)"
   ]
  },
  {
   "cell_type": "markdown",
   "metadata": {},
   "source": [
    "7- João Papo-de-Pescador, homem de bem, comprou um microcomputador para controlar o rendimento diário de seu trabalho. Toda vez que ele traz um peso de peixes maior que o estabelecido pelo regulamento de pesca do estado de São Paulo (50 quilos) deve pagar uma multa de R$ 4,00 por quilo excedente. João precisa que você faça um programa que leia a variável peso (peso de peixes) e verifque se há excesso. Se houver, gravar na variável excesso e na variável multa o valor da multa que João deverá pagar.\n",
    "Caso contrário mostrar tais variáveis com o conteúdo ZERO."
   ]
  },
  {
   "cell_type": "code",
   "execution_count": null,
   "metadata": {},
   "outputs": [],
   "source": [
    "peso = float(input(\"Informe o peso:\"))\n",
    "excesso = 0\n",
    "multa = 0\n",
    "\n",
    "if(peso > 50):\n",
    "    excesso = peso - 50\n",
    "    gramas = excesso - int(excesso)\n",
    "    multa = (int)excesso * 4\n",
    "\n",
    "print(\"Peso excedido: \", excesso)\n",
    "print(\"Valor da multa: \", multa)"
   ]
  },
  {
   "cell_type": "markdown",
   "metadata": {},
   "source": [
    "8- Faça um Programa que pergunte quanto você ganha por hora e o\n",
    "número de horas trabalhadas no mês. Calcule e mostre o total do\n",
    "seu salário no referido mês, sabendo-se que são descontados 11%\n",
    "para o Imposto de Renda, 8% para o INSS e 5% para o sindicato,\n",
    "faça um programa que nos dê:\n",
    "- salário bruto.\n",
    "- quanto pagou ao INSS.\n",
    "- quanto pagou ao sindicato.\n",
    "- o salário líquido.\n",
    "- calcule os descontos e o salário líquido, conforme a tabela abaixo\n",
    "+Salário Bruto:R$\n",
    "-IR (11%):R$\n",
    "-INSS (8%):R$\n",
    "-Sindicato (5):R$\n",
    "=Salário Liquido:R$\n",
    "Obs.: Salário Bruto - Descontos = Salário Líquido."
   ]
  },
  {
   "cell_type": "code",
   "execution_count": null,
   "metadata": {},
   "outputs": [],
   "source": [
    "valor_hora = float(input(\"Quanto você ganha por hora?\"))\n",
    "horas_mes = float(input(\"Quantas horas você trabalha por mês?\"))\n",
    "\n",
    "salario_bruto = valor_hora * horas_mes\n",
    "imposto_de_renda = salario_bruto * 0.11\n",
    "inss = salario_bruto * 0.08\n",
    "sindicato = salario_bruto * 0.05\n",
    "\n",
    "salario_liquido = salario_bruto - (imposto_de_renda + inss + sindicato)\n",
    "\n",
    "print(\"Seu salário bruto mensal é: \", salario_bruto)\n",
    "print(\"Valor do Imposto de Renda: \", imposto_de_renda)\n",
    "print(\"Valor do INSS: \", inss)\n",
    "print(\"Valor do Sindicato: \", sindicato)\n",
    "print(\"Seu salário liquido mensal é: \", salario_liquido)\n"
   ]
  },
  {
   "cell_type": "markdown",
   "metadata": {},
   "source": [
    "9- Faça um programa que leia 2 strings e informe o conteúdo delas\n",
    "seguido do seu comprimento. Informe também se as duas strings\n",
    "possuem o mesmo comprimento e são iguais ou diferentes no\n",
    "conteúdo.\n",
    "Exemplo:\n",
    "String 1: Brasil Hexa 2018\n",
    "String 2: Brasil! Hexa 2018!\n",
    "Tamanho de \"Brasil Hexa 2018\": 16 caracteres\n",
    "Tamanho de \"Brasil! Hexa 2018!\": 18 caracteres\n",
    "As duas strings são de tamanhos diferentes.\n",
    "As duas strings possuem conteúdo diferente."
   ]
  },
  {
   "cell_type": "code",
   "execution_count": null,
   "metadata": {},
   "outputs": [],
   "source": [
    "string_a = input(\"Digite a primeira frase: \")\n",
    "string_b = input(\"Digite a segunda frase: \")\n",
    "\n",
    "print(\"String 1: \", string_a)\n",
    "print(\"String 2: \", string_b)\n",
    "\n",
    "print(\"Tamanho de \" + string_a + \": \", len(string_a))\n",
    "print(\"Tamanho de \" + string_b + \": \", len(string_b))\n",
    "\n",
    "if(len(string_a) == len(string_b)):\n",
    "    print(\"As duas strings tem o mesmo tamanho.\")\n",
    "else:\n",
    "    print(\"As duas strings tem tamanho diferente.\")\n",
    "\n",
    "if(string_a == string_b):\n",
    "    print(\"As duas strings possuem o mesmo conteúdo.\")\n",
    "else:\n",
    "    print(\"As duas strings possuem conteúdo diferente.\")"
   ]
  },
  {
   "cell_type": "markdown",
   "metadata": {},
   "source": [
    "10- Faça um programa que permita ao usuário digitar o seu nome e\n",
    "em seguida mostre o nome do usuário de trás para frente utilizando\n",
    "somente letras maiúsculas. Dica: lembre−se que ao informar o\n",
    "nome o usuário pode digitar letras maiúsculas ou minúsculas.\n",
    "Observação: não use loops."
   ]
  },
  {
   "cell_type": "code",
   "execution_count": null,
   "metadata": {},
   "outputs": [],
   "source": [
    "username = input(\"Digite seu nome:\")\n",
    "print(username[::-1].upper())"
   ]
  },
  {
   "cell_type": "markdown",
   "metadata": {},
   "source": [
    "11- Faça um programa que solicite a data de nascimento\n",
    "(dd/mm/aaaa) do usuário e imprima a data com o nome do mês por\n",
    "extenso.\n",
    "Data de Nascimento: 29/10/1973\n",
    "Você nasceu em 29 de Outubro de 1973.\n",
    "Obs.: Não use desvio condicional nem loops."
   ]
  },
  {
   "cell_type": "code",
   "execution_count": null,
   "metadata": {},
   "outputs": [],
   "source": [
    "import locale\n",
    "from datetime import datetime\n",
    "locale.setlocale(locale.LC_TIME, 'portuguese_brazil')\n",
    "\n",
    "data_nascimento = input(\"Informe a data de nascimento: (dd/mm/aa)\").split(\"/\")\n",
    "data = date(day=int(data_nascimento[0]), month=int(data_nascimento[1]), year=int(data_nascimento[2]))\n",
    "\n",
    "str = data.strftime('%A %d de %B de %Y')\n",
    "\n",
    "print(\"Você nasceu em\", str)"
   ]
  },
  {
   "cell_type": "markdown",
   "metadata": {},
   "source": [
    "12- Leet é uma forma de se escrever o alfabeto latino usando outros\n",
    "símbolos em lugar das letras, como números por exemplo. A própria\n",
    "palavra leet admite muitas variações, como l33t ou 1337. O uso do\n",
    "leet reflete uma subcultura relacionada ao mundo dos jogos de\n",
    "computador e internet, sendo muito usada para confundir os\n",
    "iniciantes e afrmar-se como parte de um grupo. Pesquise sobre as\n",
    "principais formas de traduzir as letras. Depois, faça um programa\n",
    "que peça uma texto e transforme-o para a grafa leet speak.\n",
    "Desafo: não use loops nem desvios condicionais."
   ]
  },
  {
   "cell_type": "code",
   "execution_count": null,
   "metadata": {},
   "outputs": [],
   "source": [
    "string = input(\"Digite um texto qualquer: \")\n",
    "    \n",
    "translation = {\"a\": \"4\", \"A\": \"4\", \"e\": \"3\", \"E\": \"3\", \"i\": \"1\", \"I\": \"1\", \"o\": \"0\", \"O\": \"0\", \"t\": \"7\", \"T\": \"7\", \"s\": '5', \"S\": '5'}\n",
    "\n",
    "string.translate(str.maketrans(translation))\n",
    "\n",
    "print(string)"
   ]
  }
 ],
 "metadata": {
  "kernelspec": {
   "display_name": "Python 3",
   "language": "python",
   "name": "python3"
  },
  "language_info": {
   "codemirror_mode": {
    "name": "ipython",
    "version": 3
   },
   "file_extension": ".py",
   "mimetype": "text/x-python",
   "name": "python",
   "nbconvert_exporter": "python",
   "pygments_lexer": "ipython3",
   "version": "3.6.5"
  }
 },
 "nbformat": 4,
 "nbformat_minor": 2
}
