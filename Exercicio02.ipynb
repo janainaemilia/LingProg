{
 "cells": [
  {
   "cell_type": "markdown",
   "metadata": {},
   "source": [
    "## Exercício 02\n",
    "### Linguagens e Paradigmas de Programação\n",
    "\n",
    "Janaina Emilia\n",
    "<br /> <b>RA</b> 816114781"
   ]
  },
  {
   "cell_type": "markdown",
   "metadata": {},
   "source": [
    "### Listas"
   ]
  },
  {
   "cell_type": "markdown",
   "metadata": {},
   "source": [
    "1- Crie um programa que recebe uma lista de números e\n",
    "- retorne o maior elemento\n",
    "- retorne a soma dos elementos\n",
    "- retorne o número de ocorrências do primeiro elemento da lista\n",
    "- retorne a média dos elementos\n",
    "- retorne o valor mais próximo da média dos elementos\n",
    "- retorne a soma dos elementos com valor negativo\n",
    "- retorne a quantidade de vizinhos iguais"
   ]
  },
  {
   "cell_type": "code",
   "execution_count": 10,
   "metadata": {},
   "outputs": [
    {
     "name": "stdout",
     "output_type": "stream",
     "text": [
      "Digite uma lista de números separados por espaço: 1 2 3 4 5\n",
      "list: [1, 2, 3, 4, 5] \n",
      "\n",
      "O maior elemento é: 5\n",
      "A soma dos elementos é: 15\n",
      "O elemento 1 aparece 1x na lista\n",
      "A média dos elementos é: 3.0\n",
      "O valor mais próximo da média dos elementos é: 3\n"
     ]
    }
   ],
   "source": [
    "list = [int(x) for x in input(\"Digite uma lista de números separados por espaço: \").split()]\n",
    "media = sum(list) / len(list)\n",
    "\n",
    "print(f\"list: {list} \\n\")\n",
    "\n",
    "print(f\"O maior elemento é: {max(list)}\")\n",
    "print(f\"A soma dos elementos é: {sum(list)}\")\n",
    "print(f\"O elemento {list[0]} aparece {list.count(list[0])}x na lista\")\n",
    "print(f\"A média dos elementos é: {media}\")\n",
    "print(f\"O valor mais próximo da média dos elementos é: {min(list, key=lambda x:abs(x-media))}\")\n",
    "print(f\"A soma dos valores negativos é: {sum(i for i in list if i < 0)}\")"
   ]
  },
  {
   "cell_type": "markdown",
   "metadata": {},
   "source": [
    "2- Faça um programa que receba duas listas e retorne True se são\n",
    "iguais ou False caso contrario.\n",
    "Duas listas são iguais se possuem os mesmos valores e na mesma\n",
    "ordem."
   ]
  },
  {
   "cell_type": "code",
   "execution_count": 6,
   "metadata": {},
   "outputs": [
    {
     "name": "stdout",
     "output_type": "stream",
     "text": [
      "Digite os elementos da lista A, separados por virgula: 1,2,3,4,5,6\n",
      "Digite os elementos da lista B, separados por virgula: 1,2,3\n",
      "As duas listas são iguais.\n"
     ]
    }
   ],
   "source": [
    "list_a = input(\"Digite os elementos da lista A, separados por virgula: \")\n",
    "list_a = list_a.split(',')\n",
    "\n",
    "list_b = input(\"Digite os elementos da lista B, separados por virgula: \")\n",
    "list_b = list_b.split(',')\n",
    "\n",
    "match = bool(set(list_a).intersection(list_b))\n",
    "\n",
    "if(match):\n",
    "    print(\"As duas listas são iguais.\")\n",
    "else:\n",
    "    print(\"As duas listas não são iguais.\")"
   ]
  },
  {
   "cell_type": "markdown",
   "metadata": {},
   "source": [
    "3- Faça um programa que receba duas listas e retorne True se têm\n",
    "os mesmos elementos ou False caso contrário\n",
    "Duas listas possuem os mesmos elementos quando são compostas\n",
    "pelos mesmos valores, mas não obrigatoriamente na mesma ordem."
   ]
  },
  {
   "cell_type": "code",
   "execution_count": 7,
   "metadata": {},
   "outputs": [
    {
     "name": "stdout",
     "output_type": "stream",
     "text": [
      "Digite os elementos da lista A, separados por virgula: 1,2,3,4,5\n",
      "Digite os elementos da lista B, separados por virgula: 5,4,3,2,1\n",
      "As duas listas possui os mesmos elementos.\n"
     ]
    }
   ],
   "source": [
    "list_a = input(\"Digite os elementos da lista A, separados por virgula: \")\n",
    "list_a = list_a.split(',')\n",
    "\n",
    "list_b = input(\"Digite os elementos da lista B, separados por virgula: \")\n",
    "list_b = list_b.split(',')\n",
    "\n",
    "if(set(list_a) == set(list_b)):\n",
    "    print(\"As duas listas possui os mesmos elementos.\")\n",
    "else:\n",
    "    print(\"As duas listas não possui os mesmos elementos.\")"
   ]
  },
  {
   "cell_type": "markdown",
   "metadata": {},
   "source": [
    "4- Faça um programa que percorre uma lista com o seguinte\n",
    "formato: [['Brasil', 'Italia', [10, 9]], ['Brasil', 'Espanha', [5, 7]],\n",
    "['Italia', 'Espanha', [7,8]]]. Essa lista indica o número de faltas que\n",
    "cada time fez em cada jogo. Na lista acima, no jogo entre Brasil e\n",
    "Itália, o Brasil fez 10 faltas e a Itália fez 9.\n",
    "O programa deve imprimir na tela:\n",
    "- o total de faltas do campeonato\n",
    "- o time que fez mais faltas\n",
    "- o time que fez menos faltas"
   ]
  },
  {
   "cell_type": "code",
   "execution_count": 47,
   "metadata": {},
   "outputs": [
    {
     "name": "stdout",
     "output_type": "stream",
     "text": [
      "Total de faltas do campeonato: 46\n",
      "O time que mais fez falta: Brasil\n",
      "O time que menos fez falta: Brasil\n"
     ]
    }
   ],
   "source": [
    "list = [['Brasil', 'Italia', [10, 9]], ['Brasil', 'Espanha', [5, 7]], ['Italia', 'Espanha', [7,8]]]\n",
    "\n",
    "total_faltas = 0\n",
    "time_mais_falta = []\n",
    "time_menos_falta = []\n",
    "\n",
    "count = 0\n",
    "\n",
    "for l in list:\n",
    "    total_faltas += sum(l[2])\n",
    "    \n",
    "    auxMax = [count, l[2].index(max(l[2])), max(l[2])] \n",
    "    auxMin = [count, l[2].index(min(l[2])), min(l[2])] \n",
    "    \n",
    "    if(count > 0):\n",
    "        if(auxMax[2] > time_mais_falta[2]):\n",
    "            time_mais_falta = auxMax\n",
    "            \n",
    "        if(auxMin[2] < time_menos_falta[2]):\n",
    "            time_menos_falta = auxMin\n",
    "    else:\n",
    "        time_mais_falta = auxMax\n",
    "        time_menos_falta = auxMin\n",
    "        \n",
    "    count=+1\n",
    "\n",
    "print(f\"Total de faltas do campeonato: {total_faltas}\")\n",
    "print(f\"O time que mais fez falta: {list[time_mais_falta[0]][time_mais_falta[1]]}\")\n",
    "print(f\"O time que menos fez falta: {list[time_menos_falta[0]][time_menos_falta[1]]}\")\n"
   ]
  },
  {
   "cell_type": "markdown",
   "metadata": {},
   "source": [
    "### Dictionaries"
   ]
  },
  {
   "cell_type": "markdown",
   "metadata": {},
   "source": [
    "5- Escreva um programa que conta a quantidade de vogais em uma\n",
    "string e armazena tal quantidade em um dicionário, onde a chave é\n",
    "a vogal considerada."
   ]
  },
  {
   "cell_type": "code",
   "execution_count": 7,
   "metadata": {},
   "outputs": [
    {
     "name": "stdout",
     "output_type": "stream",
     "text": [
      "Digite uma frase: Olá, meu nome é Janaina e eu estou trabalhando com dictionaries. E você?\n",
      "{'a': 7, 'e': 6, 'i': 4, 'o': 6, 'u': 3, 'á': 1, 'é': 1, 'ê': 1, 'ã': 0, 'õ': 0, 'à': 0, 'Á': 0, 'Ê': 0, 'É': 0, 'Ã': 0, 'Õ': 0, 'À': 0, 'A': 0, 'E': 1, 'I': 0, 'O': 1, 'U': 0}\n"
     ]
    }
   ],
   "source": [
    "sentence = input(\"Digite uma frase: \")\n",
    "counts = {i:0 for i in 'aeiouáéêãõàÁÊÉÃÕÀAEIOU'}\n",
    "\n",
    "for char in sentence:\n",
    "    if char in counts:\n",
    "        counts[char] += 1\n",
    "        \n",
    "vogais = {}\n",
    "\n",
    "for k,v in counts.items():\n",
    "    vogais[k] = v\n",
    "    \n",
    "print(vogais)"
   ]
  },
  {
   "cell_type": "markdown",
   "metadata": {},
   "source": [
    "6- Escreva um programa que lê̂ duas notas de vários alunos e\n",
    "armazena tais notas em um dicionário, onde a chave é o nome do\n",
    "aluno. A entrada de dados deve terminar quando for lida uma string\n",
    "vazia como nome. Escreva uma função que retorna a média do\n",
    "aluno, dado seu nome."
   ]
  },
  {
   "cell_type": "code",
   "execution_count": 35,
   "metadata": {},
   "outputs": [
    {
     "name": "stdout",
     "output_type": "stream",
     "text": [
      "Insira as notas no formato Nome, nota1, nota2, separando por ponto e virgula: Janaina,9,9;João,6,8;Carla,6,7\n",
      "Média de Janaina é: 9.0\n",
      "Média de João é: 7.0\n",
      "Média de Carla é: 6.5\n"
     ]
    }
   ],
   "source": [
    "values = input(\"Insira as notas no formato Nome, nota1, nota2, separando por ponto e virgula: \")\n",
    "values = values.split(\";\")\n",
    "\n",
    "notas = {}\n",
    "count = 0\n",
    "\n",
    "for n in values:\n",
    "    nota = n.split(',')\n",
    "    notas[nota[0]] = {\"nota1\": nota[1], \"nota2\": nota[2]}\n",
    "    \n",
    "for n in notas:\n",
    "    media = (int(notas[n]['nota1']) + int(notas[n]['nota2']))/2\n",
    "    print(f\"Média de {n} é: {media}\")"
   ]
  },
  {
   "cell_type": "markdown",
   "metadata": {},
   "source": [
    "7- Uma pista de Kart permite 10 voltas para cada um de 6\n",
    "corredores. Escreva um programa que leia todos os tempos em\n",
    "segundos e os guarde em um dicionário, onde a chave é o nome do\n",
    "corredor. Ao final diga de quem foi a melhor volta da prova e em\n",
    "que volta; e ainda a classifcação final em ordem (1o o campeão). O\n",
    "campeão é o que tem a menor média de tempos"
   ]
  },
  {
   "cell_type": "code",
   "execution_count": null,
   "metadata": {},
   "outputs": [],
   "source": []
  },
  {
   "cell_type": "markdown",
   "metadata": {},
   "source": [
    "8- Escreva um programa para armazenar uma agenda de telefones em um dicionário. Cada pessoa pode ter um ou mais telefones e a\n",
    "chave do dicionário é o nome da pessoa. Seu programa deve ter as\n",
    "seguintes funções:\n",
    "incluirNovoNome – essa função acrescenta um novo nome na\n",
    "agenda, com um ou mais telefones. Ela deve receber como\n",
    "argumentos o nome e os telefones.\n",
    "incluirTelefone – essa função acrescenta um telefone em um nome\n",
    "existente na agenda. Caso o nome não exista na agenda, você̂ deve\n",
    "perguntar se a pessoa deseja inclui-lo. Caso a resposta seja\n",
    "afrmativa, use a função anterior para incluir o novo nome.\n",
    "excluirTelefone – essa função exclui um telefone de uma pessoa\n",
    "que já está na agenda. Se a pessoa tiver apenas um telefone, ela\n",
    "deve ser excluída da agenda.\n",
    "excluirNome – essa função exclui uma pessoa da agenda.\n",
    "consultarTelefone – essa função retorna os telefones de uma\n",
    "pessoa na agenda."
   ]
  },
  {
   "cell_type": "code",
   "execution_count": null,
   "metadata": {},
   "outputs": [],
   "source": []
  },
  {
   "cell_type": "markdown",
   "metadata": {},
   "source": [
    "### Arquivos"
   ]
  },
  {
   "cell_type": "markdown",
   "metadata": {},
   "source": [
    "9- Faça um programa que leia um arquivo texto contendo uma lista\n",
    "de endereços IP e gere um outro arquivo, contendo um relatório dos\n",
    "endereços IP válidos e inválidos.\n",
    "O arquivo de entrada possui o seguinte formato:\n",
    "- 200.135.80.9\n",
    "- 192.168.1.1\n",
    "- 8.35.67.74\n",
    "- 257.32.4.5\n",
    "- 85.345.1.2\n",
    "- 1.2.3.4\n",
    "- 9.8.234.5\n",
    "- 192.168.0.256\n",
    "\n",
    "O arquivo de saída possui o seguinte formato:\n",
    "- [Endereços válidos:]\n",
    "- 200.135.80.9\n",
    "- 192.168.1.1\n",
    "- 8.35.67.74\n",
    "- 1.2.3.4\n",
    "- [Endereços inválidos:]\n",
    "- 257.32.4.5\n",
    "- 85.345.1.2\n",
    "- 9.8.234.5\n",
    "- 192.168.0.256"
   ]
  },
  {
   "cell_type": "code",
   "execution_count": null,
   "metadata": {},
   "outputs": [],
   "source": []
  },
  {
   "cell_type": "markdown",
   "metadata": {},
   "source": [
    "10- A ACME Inc., uma empresa de 500 funcionários, está tendo\n",
    "problemas de espaço em disco no seu servidor de arquivos. Para\n",
    "tentar resolver este problema, o Administrador de Rede precisa\n",
    "saber qual o espaço ocupado pelos usuários, e identifcar os\n",
    "usuários com maior espaço ocupado. Através de um programa,\n",
    "baixado da Internet, ele conseguiu gerar o seguinte arquivo,\n",
    "chamado \"usuarios.txt\":\n",
    "alexandre 456123789\n",
    "anderson 1245698456\n",
    "antonio 123456456\n",
    "carlos 91257581\n",
    "cesar 987458\n",
    "rosemary 789456125\n",
    "Neste arquivo, o nome do usuário possui 15 caracteres. A partir\n",
    "deste arquivo, você deve criar um programa que gere um relatório,\n",
    "chamado \"relatório.txt\", no seguinte formato:\n",
    "ACME Inc. Uso do espaço em disco pelos usuários\n",
    "--------------------------------------------------------------\n",
    "----------\n",
    "Nr. Usuário Espaço utilizado % do uso\n",
    "1 alexandre 434,99 MB 16,85%\n",
    "2 anderson 1187,99 MB 46,02%\n",
    "3 antonio 117,73 MB 4,56%\n",
    "4 carlos 87,03 MB 3,37%\n",
    "5 cesar 0,94 MB 0,04%\n",
    "6 rosemary 752,88 MB 29,16%\n",
    "Espaço total ocupado: 2581,57 MB\n",
    "Espaço médio ocupado: 430,26 MB\n",
    "O arquivo de entrada deve ser lido uma única vez, e os dados\n",
    "armazenados em memória, caso sejam necessários, de forma a\n",
    "agilizar a execução do programa. A conversão da espaço ocupado\n",
    "em disco, de bytes para megabytes deverá ser feita através de uma\n",
    "função separada, que será chamada pelo programa principal. O\n",
    "cálculo do percentual de uso também deverá ser feito através de\n",
    "uma função, que será chamada pelo programa principal."
   ]
  },
  {
   "cell_type": "code",
   "execution_count": null,
   "metadata": {},
   "outputs": [],
   "source": []
  }
 ],
 "metadata": {
  "kernelspec": {
   "display_name": "Python 3",
   "language": "python",
   "name": "python3"
  },
  "language_info": {
   "codemirror_mode": {
    "name": "ipython",
    "version": 3
   },
   "file_extension": ".py",
   "mimetype": "text/x-python",
   "name": "python",
   "nbconvert_exporter": "python",
   "pygments_lexer": "ipython3",
   "version": "3.6.5"
  }
 },
 "nbformat": 4,
 "nbformat_minor": 2
}
