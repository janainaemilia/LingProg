{
 "cells": [
  {
   "cell_type": "markdown",
   "metadata": {},
   "source": [
    "1- Defna a função somannat que recebe como argumento um número natural n\n",
    "    e devolve a soma de todos os números naturais até n.\n",
    "    \n",
    "    Ex: somannat(5) = 15\n"
   ]
  },
  {
   "cell_type": "code",
   "execution_count": 1,
   "metadata": {},
   "outputs": [
    {
     "name": "stdout",
     "output_type": "stream",
     "text": [
      "15\n"
     ]
    }
   ],
   "source": [
    "def somanat(n):\n",
    "    return 1 if n == 1 else n + somanat(n-1)\n",
    "    \n",
    "\n",
    "print(somanat(5))"
   ]
  },
  {
   "cell_type": "markdown",
   "metadata": {},
   "source": [
    "2- Defna a função div que recebe como argumentos dois números naturais m\n",
    "    e n e devolve o resultado da divisão inteira de m por n. Neste exercício você não\n",
    "    pode recorrer às operações aritmétcas de multplicação, divisão e resto da divisão\n",
    "    inteira.\n",
    "\n",
    "    Ex: div(7,2) = 3"
   ]
  },
  {
   "cell_type": "code",
   "execution_count": 3,
   "metadata": {},
   "outputs": [
    {
     "name": "stdout",
     "output_type": "stream",
     "text": [
      "3\n"
     ]
    }
   ],
   "source": [
    "def div(dividendo, divisor):\n",
    "    return 0 if dividendo < divisor else 1+div((dividendo-divisor),divisor)\n",
    "\n",
    "print(div(7,2))"
   ]
  },
  {
   "cell_type": "markdown",
   "metadata": {},
   "source": [
    "3- Defna a função prim_alg que recebe como argumento um número natural e devolve o primeiro algarismo (o mais signifcatvo) na representação decimal de n.\n",
    "    \n",
    "    Ex: primnalg(5649) = 5\n",
    "    Ex: primnalg(7) = 7\n"
   ]
  },
  {
   "cell_type": "code",
   "execution_count": 21,
   "metadata": {},
   "outputs": [
    {
     "name": "stdout",
     "output_type": "stream",
     "text": [
      "5\n"
     ]
    }
   ],
   "source": [
    "def prim_alg(x):\n",
    "    return x if x < 10 else prim_alg(x//10)\n",
    "\n",
    "print(prim_alg(5649))"
   ]
  },
  {
   "cell_type": "markdown",
   "metadata": {},
   "source": [
    "4- Defna a função prod_lista que recebe como argumento uma lista de inteiros e\n",
    "devolve o produto dos seus elementos.\n",
    "\n",
    "    Ex: prodnlista([1,2,3,4,5,6]) = 720"
   ]
  },
  {
   "cell_type": "code",
   "execution_count": 20,
   "metadata": {},
   "outputs": [
    {
     "name": "stdout",
     "output_type": "stream",
     "text": [
      "720\n"
     ]
    }
   ],
   "source": [
    "def prod_lista(l,i):\n",
    "    return l[i] if i == 0 else l[i] * prod_lista(l[:-1],i-1)\n",
    "\n",
    "print(prod_lista([1,2,3,4,5,6],5))"
   ]
  },
  {
   "cell_type": "markdown",
   "metadata": {},
   "source": [
    "5- Defina a função contem_parQ que recebe como argumento uma lista de números\n",
    "inteiros w e devolve True se w contém um número par e False em caso contrário.\n",
    "\n",
    "    Ex: contem_parQ([2,3,1,2,3,4]) = True\n",
    "    Ex: contem_parQ([1,3,5,7]) = False\n"
   ]
  },
  {
   "cell_type": "code",
   "execution_count": 81,
   "metadata": {},
   "outputs": [
    {
     "name": "stdout",
     "output_type": "stream",
     "text": [
      "True\n",
      "False\n"
     ]
    }
   ],
   "source": [
    "def contem_parQ(l,i):\n",
    "    if i == len(l): return False\n",
    "    return True if l[i] % 2 == 0 else contem_parQ(l,i+1)\n",
    "\n",
    "print(contem_parQ([2,3,1,2,3,4],0))\n",
    "print(contem_parQ([1,3,5,7],0))"
   ]
  },
  {
   "cell_type": "markdown",
   "metadata": {},
   "source": [
    "6- Defina a função todos_imparesQ que recebe como argumento uma lista de\n",
    "números inteiros w e devolve True se w contém apenas números ímpares e False\n",
    "em caso contrário.\n",
    "\n",
    "    Ex: todos_imparesQ([1,3,5,7]) = True\n",
    "    Ex: todos_imparesQ([]) = True\n",
    "    Ex: todos_imparesQ([1,2,3,4,5]) = False"
   ]
  },
  {
   "cell_type": "code",
   "execution_count": 83,
   "metadata": {},
   "outputs": [
    {
     "ename": "SyntaxError",
     "evalue": "invalid syntax (<ipython-input-83-bdada7fbe77f>, line 3)",
     "output_type": "error",
     "traceback": [
      "\u001b[1;36m  File \u001b[1;32m\"<ipython-input-83-bdada7fbe77f>\"\u001b[1;36m, line \u001b[1;32m3\u001b[0m\n\u001b[1;33m    return True if len(l)-1 == i\u001b[0m\n\u001b[1;37m                                ^\u001b[0m\n\u001b[1;31mSyntaxError\u001b[0m\u001b[1;31m:\u001b[0m invalid syntax\n"
     ]
    }
   ],
   "source": [
    "def todos_imparesQ(l,i):\n",
    "    if len(l) == 0: return True\n",
    "    return True if len(l)-1 == i\n",
    "\n",
    "## NÃO CONSEGUI TERMINAR"
   ]
  },
  {
   "cell_type": "markdown",
   "metadata": {},
   "source": [
    "7- Defna a função pertenceQ que recebe como argumentos uma lista de números\n",
    "inteiros w e um número inteiro n e devolve True se n ocorre em w e False em\n",
    "caso contrário.\n",
    "\n",
    "    Ex: pertenceQ([1,2,3],1) = True\n",
    "    Ex: pertenceQ([1,2,3],2) = True\n",
    "    Ex: pertenceQ([1,2,3],3) = True\n",
    "    Ex: pertenceQ([1,2,3],4) = False"
   ]
  },
  {
   "cell_type": "code",
   "execution_count": 82,
   "metadata": {},
   "outputs": [
    {
     "name": "stdout",
     "output_type": "stream",
     "text": [
      "True\n",
      "True\n",
      "True\n",
      "False\n"
     ]
    }
   ],
   "source": [
    "def pertenceQ(l, n, i):\n",
    "    if i == len(l): return False\n",
    "    return True if l[i] == n else pertenceQ(l, n, i+1)\n",
    "\n",
    "print(pertenceQ([1,2,3],1,0))\n",
    "print(pertenceQ([1,2,3],2,0))\n",
    "print(pertenceQ([1,2,3],3,0))\n",
    "print(pertenceQ([1,2,3],4,0))\n"
   ]
  },
  {
   "cell_type": "markdown",
   "metadata": {},
   "source": [
    "8- Defina a função junta que recebe como argumentos duas listas de números\n",
    "inteiros w1 e w2 e devolve a concatenação de w1 com w2 .\n",
    "\n",
    "    Ex: junta([1,2,3],[4,5,6]) = [1, 2, 3, 4, 5, 6]\n",
    "    Ex: junta([],[4,5,6]) = [4, 5, 6]\n",
    "    Ex: junta([1,2,3],[]) = [1, 2, 3]"
   ]
  },
  {
   "cell_type": "code",
   "execution_count": null,
   "metadata": {},
   "outputs": [],
   "source": []
  },
  {
   "cell_type": "markdown",
   "metadata": {},
   "source": [
    "9- Defna a função temPrimoQ que recebe como argumento uma lista de listas de\n",
    "números inteiros w e devolve True se alguma das sublistas w tem um número\n",
    "primo e False em caso contrário.\n",
    "\n",
    "    Ex: temPrimoQ([[4,4,4,4],[5,4,6,7],[2,4,3]]) = True\n",
    "    Ex: temPrimoQ([[4,4,4,4],[4,4,4],[],[4]]) = False"
   ]
  },
  {
   "cell_type": "code",
   "execution_count": null,
   "metadata": {},
   "outputs": [],
   "source": []
  },
  {
   "cell_type": "markdown",
   "metadata": {},
   "source": [
    "10- Defna a função inverteLista que recebe como argumento uma lista w e devolve a\n",
    "mesma lista mas invertda.\n",
    "\n",
    "    Ex: inverteLista([1,2,3,4,5]) = [5, 4, 3, 2, 1]\n",
    "    Ex: inverteLista([])"
   ]
  },
  {
   "cell_type": "code",
   "execution_count": null,
   "metadata": {},
   "outputs": [],
   "source": []
  }
 ],
 "metadata": {
  "kernelspec": {
   "display_name": "Python 3",
   "language": "python",
   "name": "python3"
  },
  "language_info": {
   "codemirror_mode": {
    "name": "ipython",
    "version": 3
   },
   "file_extension": ".py",
   "mimetype": "text/x-python",
   "name": "python",
   "nbconvert_exporter": "python",
   "pygments_lexer": "ipython3",
   "version": "3.6.5"
  }
 },
 "nbformat": 4,
 "nbformat_minor": 2
}
