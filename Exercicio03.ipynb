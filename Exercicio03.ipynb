{
 "cells": [
  {
   "cell_type": "markdown",
   "metadata": {},
   "source": [
    "## Lista 03\n",
    "### Linguagens e Paradigmas de Programação\n",
    "\n",
    "Janaina Emilia\n",
    "<br /> <b>RA</b> 816114781"
   ]
  },
  {
   "cell_type": "markdown",
   "metadata": {},
   "source": [
    "01 - Faça um Programa que peça dois números e imprima o maior\n",
    "deles."
   ]
  },
  {
   "cell_type": "code",
   "execution_count": 14,
   "metadata": {},
   "outputs": [
    {
     "name": "stdout",
     "output_type": "stream",
     "text": [
      "Digite o primeiro número: 5\n",
      "Digite o segundo número: 8\n",
      "O nº 8 é o maior.\n"
     ]
    }
   ],
   "source": [
    "numberOne = int(input(\"Digite o primeiro número: \"))\n",
    "numberTwo = int(input(\"Digite o segundo número: \"))\n",
    "\n",
    "if numberOne == numberTwo:\n",
    "    print(f\"Os valores são iguais.\")\n",
    "elif numberOne > numberTwo:\n",
    "    print(f\"O nº {numberOne} é o maior.\")\n",
    "else:\n",
    "    print(f\"O nº {numberTwo} é o maior.\")\n",
    "    "
   ]
  },
  {
   "cell_type": "markdown",
   "metadata": {},
   "source": [
    "02 - Um programa que verifica se uma letra digitada é vogal ou consoante\n"
   ]
  },
  {
   "cell_type": "code",
   "execution_count": 1,
   "metadata": {},
   "outputs": [
    {
     "name": "stdout",
     "output_type": "stream",
     "text": [
      "Digite uma letraa\n",
      "É um vogal\n"
     ]
    }
   ],
   "source": [
    "vogais = 'aeiou'\n",
    "letra = input(\"Digite uma letra\")\n",
    "\n",
    "if letra in vogais:\n",
    "    print('É um vogal')\n",
    "else:\n",
    "    print('É uma consoante')"
   ]
  },
  {
   "cell_type": "markdown",
   "metadata": {},
   "source": [
    "03 - Faça um programa para a leitura de duas notas parciais de um\n",
    "aluno. O programa deve calcular a média alcançada por aluno e\n",
    "apresentar:\n",
    "- A mensagem \"Aprovado\", se a média alcançada for maior ou igual\n",
    "a sete;\n",
    "- A mensagem \"Reprovado\", se a média for menor do que sete;\n",
    "- A mensagem \"Aprovado com Distinção\", se a média for igual a\n",
    "dez."
   ]
  },
  {
   "cell_type": "code",
   "execution_count": 16,
   "metadata": {},
   "outputs": [
    {
     "name": "stdout",
     "output_type": "stream",
     "text": [
      "Digite a primeira nota: 10\n",
      "Digite a segunda nota: 10\n",
      "Aprovado com Distinção\n"
     ]
    }
   ],
   "source": [
    "nota1 = float(input(\"Digite a primeira nota: \"))\n",
    "nota2 = float(input(\"Digite a segunda nota: \"))\n",
    "\n",
    "media = (nota1 + nota2) / 2\n",
    "\n",
    "if media >= 7:\n",
    "    if media == 10:\n",
    "        print(\"Aprovado com Distinção\")\n",
    "    else:\n",
    "        print(\"Aprovado\")\n",
    "else:\n",
    "    print(\"Reprovado\")"
   ]
  },
  {
   "cell_type": "markdown",
   "metadata": {},
   "source": [
    "04 - Faça um Programa que leia três números e mostre-os em ordem decrescente."
   ]
  },
  {
   "cell_type": "code",
   "execution_count": 3,
   "metadata": {},
   "outputs": [
    {
     "name": "stdout",
     "output_type": "stream",
     "text": [
      "Digite três numeros separado por espaço: 6 55 2\n",
      "[55, 6, 2]\n"
     ]
    }
   ],
   "source": [
    "print(sorted([int(x) for x in input('Digite três numeros separado por espaço: ').split()], reverse=True))"
   ]
  },
  {
   "cell_type": "markdown",
   "metadata": {},
   "source": [
    "05 - As Organizações Tabajara resolveram dar um aumento de salário\n",
    "aos seus colaboradores e lhe contrataram para desenvolver o\n",
    "programa que calculará os reajustes.\n",
    "Faça um programa que recebe o salário de um colaborador e o\n",
    "reajuste segundo o seguinte critério, baseado no salário atual:\n",
    "- salários até 280,00 (incluindo): aumento de 20%\n",
    "- salários entre 280,00 e 700,00: aumento de 15%\n",
    "- salários entre 700,00 e 1500,00: aumento de 10%\n",
    "- salários de 1500,00 em diante aumento de 5% Após o aumento ser realizado, informe na tela:\n",
    "- o salário antes do reajuste;\n",
    "- o percentual de aumento aplicado;\n",
    "- o valor do aumento;\n",
    "- o novo salário, após o aumento."
   ]
  },
  {
   "cell_type": "code",
   "execution_count": 17,
   "metadata": {},
   "outputs": [
    {
     "name": "stdout",
     "output_type": "stream",
     "text": [
      "Digite o salário atual do colaborador: 300\n",
      "Salário atual: 300.0\n",
      "Percentual aplicado: 15%\n",
      "Valor do aumento: 45.0\n",
      "Novo salário: 345.0\n"
     ]
    }
   ],
   "source": [
    "salarioAtual = float(input(\"Digite o salário atual do colaborador: \"))\n",
    "\n",
    "if salarioAtual <= 280:\n",
    "    print(f\"Salário atual: {salarioAtual}\")\n",
    "    print(f\"Percentual aplicado: 20%\")\n",
    "    print(f\"Valor do aumento: {salarioAtual * 0.2}\")\n",
    "    print(f\"Novo salário: {salarioAtual + (salarioAtual * 0.2) }\")\n",
    "elif salarioAtual > 280 and salarioAtual <= 700:\n",
    "    print(f\"Salário atual: {salarioAtual}\")\n",
    "    print(f\"Percentual aplicado: 15%\")\n",
    "    print(f\"Valor do aumento: {salarioAtual * 0.15}\")\n",
    "    print(f\"Novo salário: {salarioAtual + (salarioAtual * 0.15) }\")\n",
    "elif salarioAtual > 700 and salarioAtual <= 1500:\n",
    "    print(f\"Salário atual: {salarioAtual}\")\n",
    "    print(f\"Percentual aplicado: 10%\")\n",
    "    print(f\"Valor do aumento: {salarioAtual * 0.1}\")\n",
    "    print(f\"Novo salário: {salarioAtual + (salarioAtual * 0.1) }\")\n",
    "elif salarioAtual > 1500:\n",
    "    print(f\"Salário atual: {salarioAtual}\")\n",
    "    print(f\"Percentual aplicado: 5%\")\n",
    "    print(f\"Valor do aumento: {salarioAtual * 0.05}\")\n",
    "    print(f\"Novo salário: {salarioAtual + (salarioAtual * 0.05) }\")\n",
    "    "
   ]
  },
  {
   "cell_type": "markdown",
   "metadata": {},
   "source": [
    "06 - Faça um Programa que leia um número e exiba o dia\n",
    "correspondente da semana. (1-Domingo, 2- Segunda, etc.), se\n",
    "digitar outro valor deve aparecer valor inválido.'\n"
   ]
  },
  {
   "cell_type": "code",
   "execution_count": 4,
   "metadata": {},
   "outputs": [
    {
     "name": "stdout",
     "output_type": "stream",
     "text": [
      "Digite o numero do dia5\n",
      "Friday\n"
     ]
    }
   ],
   "source": [
    "import calendar\n",
    "\n",
    "day = int(input('Digite o numero do dia'))\n",
    "print(calendar.day_name[day-1])"
   ]
  },
  {
   "cell_type": "markdown",
   "metadata": {},
   "source": [
    "07 - Faça um programa que lê as duas notas parciais obtidas por um\n",
    "aluno numa disciplina ao longo de um semestre, e calcule a sua\n",
    "média. A atribuição de conceitos obedece à tabela abaixo:\n",
    " Média de Aproveitamento Conceito\n",
    " - Entre 9.0 e 10.0 A\n",
    " - Entre 7.5 e 9.0 B\n",
    " - Entre 6.0 e 7.5 C\n",
    " - Entre 4.0 e 6.0 D\n",
    " - Entre 4.0 e zero E\n",
    "\n",
    "- O algoritmo deve mostrar na tela:\n",
    "- as notas, \n",
    "- a média, \n",
    "- o conceito correspondente\n",
    "- mensagem “APROVADO” se o conceito for A, B ou C \n",
    "- “REPROVADO” se o conceito for D ou E.\n"
   ]
  },
  {
   "cell_type": "code",
   "execution_count": 23,
   "metadata": {},
   "outputs": [
    {
     "name": "stdout",
     "output_type": "stream",
     "text": [
      "Digite a primeira nota: 9\n",
      "Digite a segunda nota: 9\n",
      "Notas: 9.0, 9.0\n",
      "Média: 9.0\n",
      "Conceito: A\n",
      "APROVADO\n"
     ]
    }
   ],
   "source": [
    "nota1 = float(input(\"Digite a primeira nota: \"))\n",
    "nota2 = float(input(\"Digite a segunda nota: \"))\n",
    "\n",
    "media = (nota1 + nota2) / 2\n",
    "\n",
    "print(f\"Notas: {nota1}, {nota2}\")\n",
    "print(f\"Média: {media}\")\n",
    "\n",
    "if media >= 9 and media <= 10:\n",
    "    print(f\"Conceito: A\")\n",
    "    print(\"APROVADO\")\n",
    "elif media < 9 and media >= 7.5:\n",
    "    print(f\"Conceito: B\")\n",
    "    print(\"APROVADO\")\n",
    "elif media < 7.5 and media >= 6:\n",
    "    print(f\"Conceito: C\")\n",
    "    print(\"APROVADO\")\n",
    "elif media < 6 and media >= 4:\n",
    "    print(f\"Conceito: D\")\n",
    "    print(\"REPROVADO\")\n",
    "elif media < 4 and media >= 0:\n",
    "    print(f\"Conceito: E\")\n",
    "    print(\"REPROVADO\")"
   ]
  },
  {
   "cell_type": "markdown",
   "metadata": {},
   "source": [
    "08 - Faça um Programa que peça os 3 lados de um triângulo. O\n",
    "programa deverá informar se os valores podem ser um triângulo.\n",
    "Indique, caso os lados formem um triângulo, se o mesmo é:\n",
    "equilátero, isósceles ou escaleno.\n",
    "Dicas:\n",
    "- Três lados formam um triângulo quando a soma de quaisquer dois\n",
    "lados for maior que o terceiro;\n",
    "- Triângulo Equilátero: três lados iguais;\n",
    "- Triângulo Isósceles: quaisquer dois lados iguais;\n",
    "- Triângulo Escaleno: três lados diferentes;"
   ]
  },
  {
   "cell_type": "code",
   "execution_count": 5,
   "metadata": {},
   "outputs": [
    {
     "name": "stdout",
     "output_type": "stream",
     "text": [
      "Digite o lado 15\n",
      "Digite o lado 25\n",
      "Digite o lado 35\n",
      "Os valores formam um triângulo Equilátero.\n"
     ]
    }
   ],
   "source": [
    "a = float(input(\"Digite o lado 1\"))\n",
    "b = float(input(\"Digite o lado 2\"))\n",
    "c = float(input(\"Digite o lado 3\"))\n",
    "\n",
    "if a + b > c and a + c > b and b + c > a:\n",
    "    if a == b and b == c:\n",
    "        print(\"Os valores formam um triângulo Equilátero.\")\n",
    "    elif a == b or a == c or b == c:\n",
    "        print(\"Os valores formam um triângulo Isósceles.\")\n",
    "    else:\n",
    "        print(\"Os valores formam um triângulo Escaleno.\")\n",
    "else:\n",
    "    print(\"Os valores não formam um triângulo.\")"
   ]
  },
  {
   "cell_type": "markdown",
   "metadata": {},
   "source": [
    "09 - Faça um programa que calcule as raízes de uma equação do\n",
    "segundo grau, na forma ax2 + bx + c. O programa deverá pedir os\n",
    "valores de a, b e c e fazer as consistências, informando ao usuário\n",
    "nas seguintes situações:\n",
    "- Se o usuário informar o valor de A igual a zero, a equação não é do\n",
    "segundo grau e o programa não deve fazer pedir os demais valores,\n",
    "sendo encerrado;\n",
    "- Se o delta calculado for negativo, a equação não possui raizes\n",
    "reais. Informe ao usuário e encerre o programa;\n",
    "- Se o delta calculado for igual a zero a equação possui apenas uma\n",
    "raiz real; informe-a ao usuário;\n",
    "- Se o delta for positivo, a equação possui duas raiz reais; informeas\n",
    "ao usuário;"
   ]
  },
  {
   "cell_type": "code",
   "execution_count": 35,
   "metadata": {},
   "outputs": [
    {
     "name": "stdout",
     "output_type": "stream",
     "text": [
      "Digite o valor de a: 4\n",
      "Digite o valor de b: 25\n",
      "Digite o valor de c: 1\n",
      "A equação possui duas raizes: -21.915259330186732 e -28.084740669813268.\n"
     ]
    }
   ],
   "source": [
    "import math\n",
    "\n",
    "a = int(input(\"Digite o valor de a: \"))\n",
    "b = int(input(\"Digite o valor de b: \"))\n",
    "c = int(input(\"Digite o valor de c: \"))\n",
    "\n",
    "if a == 0:\n",
    "    print(\"A equação não é de segundo grau, pois o valor de A é zero\")\n",
    "else:\n",
    "    delta = math.pow(b, 2) - (4 * a * c)\n",
    "   \n",
    "    if delta < 0:\n",
    "        print(\"A equação não possui raizes reais.\")\n",
    "    elif delta == 0:\n",
    "        x1 = -b + (math.sqrt(delta) / (2 * a))       \n",
    "        print(f\"A equação só possui uma raíz: {x1}.\")\n",
    "    else:\n",
    "        x1 = -b + (math.sqrt(delta) / (2 * a)) \n",
    "        x2 = -b - (math.sqrt(delta) / (2 * a))\n",
    "        print(f\"A equação possui duas raizes: {x1} e {x2}.\")"
   ]
  },
  {
   "cell_type": "markdown",
   "metadata": {},
   "source": [
    "10 - Faça um Programa para um caixa eletrônico. O programa\n",
    "deverá perguntar ao usuário a valor do saque e depois informar\n",
    "quantas notas de cada valor serão fornecidas. As notas disponíveis\n",
    "serão as de 1, 5, 10, 50 e 100 reais. O valor mínimo é de 10 reais e\n",
    "o máximo de 600 reais. O programa não deve se preocupar com a\n",
    "quantidade de notas existentes na máquina.\n",
    "\n",
    "- Exemplo 1: Para sacar a quantia de 256 reais, o programa fornece\n",
    "duas notas de 100, uma nota de 50, uma nota de 5 e uma nota de 1;\n",
    "\n",
    "- Exemplo 2: Para sacar a quantia de 399 reais, o programa fornece\n",
    "três notas de 100, uma nota de 50, quatro notas de 10, uma nota de 5 e quatro notas de 1\n"
   ]
  },
  {
   "cell_type": "code",
   "execution_count": 6,
   "metadata": {},
   "outputs": [
    {
     "name": "stdout",
     "output_type": "stream",
     "text": [
      "Digite o valor a ser sacado: 50\n",
      "0 1 0 0 0\n"
     ]
    }
   ],
   "source": [
    "saque = int(input(\"Digite o valor a ser sacado: \"))\n",
    "\n",
    "if(saque >= 10 or valor <= 600):\n",
    "    n100 = saque // 100\n",
    "    r100 = saque % 100\n",
    "    n50 = r100 // 50\n",
    "    r50 = r100 % 50\n",
    "    n10 = r50 // 10\n",
    "    r10 = r50 % 10\n",
    "    n5 = r10 // 5\n",
    "    r5 = r10 % 5\n",
    "    n1 = r5 // 1\n",
    "    \n",
    "    print(n100, n50, n10, n5, n1)\n",
    "else:\n",
    "    print(\"Digite um valor entre R$10 e R$600 para poder efetuar o saque\")"
   ]
  },
  {
   "cell_type": "markdown",
   "metadata": {},
   "source": [
    "11 - Faça um programa que faça 5 perguntas para uma pessoa\n",
    "sobre um crime. As perguntas são:\n",
    "- \"Telefonou para a vítima?\"\n",
    "- \"Esteve no local do crime?\"\n",
    "- \"Mora perto da vítima?\"\n",
    "- \"Devia para a vítima?\"\n",
    "- \"Já trabalhou com a vítima?\"\n",
    "\n",
    "O programa deve no fnal emitir uma classifcação sobre a participação da pessoa no crime. \n",
    "\n",
    "- Se a pessoa responder positivamente a 2 questões ela deve ser classifcada como \"Suspeita\", \n",
    "- entre 3 e 4 como \"Cúmplice\" \n",
    "- e 5 como \"Assassino\". \n",
    "\n",
    "Caso contrário, ele será classifcado como \"Inocente\"."
   ]
  },
  {
   "cell_type": "code",
   "execution_count": 46,
   "metadata": {},
   "outputs": [
    {
     "name": "stdout",
     "output_type": "stream",
     "text": [
      "Telefonou para a vítima? (S/N) s\n",
      "Esteve no local do crime? (S/N) s\n",
      "Mora perto da vítima? (S/N) s\n",
      "Devia para a vítima? (S/N) s\n",
      "Já trabalhou com a vítima? (S/N) s\n",
      "Assassino\n"
     ]
    }
   ],
   "source": [
    "respostas = []\n",
    "\n",
    "respostas += input(\"Telefonou para a vítima? (S/N) \").upper()\n",
    "respostas += input(\"Esteve no local do crime? (S/N) \").upper()\n",
    "respostas += input(\"Mora perto da vítima? (S/N) \").upper()\n",
    "respostas += input(\"Devia para a vítima? (S/N) \").upper()\n",
    "respostas += input(\"Já trabalhou com a vítima? (S/N) \").upper()\n",
    "\n",
    "if respostas.count(\"S\") < 2:\n",
    "    print(\"Inocente\")\n",
    "elif respostas.count(\"S\") == 2:\n",
    "    print(\"Suspeita\")\n",
    "elif respostas.count(\"S\") > 2 and respostas.count(\"S\") <= 4:\n",
    "    print(\"Cumplice\")\n",
    "else:\n",
    "    print(\"Assassino\")"
   ]
  },
  {
   "cell_type": "markdown",
   "metadata": {},
   "source": [
    "12 - Uma fruteira está vendendo frutas com a seguinte tabela de preços:\n",
    " Até 5 Kg                   Acima de 5 Kg\n",
    " Morango R$ 2,50 por Kg     R$ 2,20 por Kg\n",
    " Maçã R$ 1,80 por Kg        R$ 1,50 por Kg\n",
    "\n",
    "Se o cliente comprar mais de 8 Kg em frutas ou o valor total da\n",
    "compra ultrapassar R$ 25,00, receberá ainda um desconto de 10%\n",
    "sobre este total. \n",
    "\n",
    "Escreva um algoritmo para ler a quantidade (emKg) de morangos e a quantidade (em Kg) de maças adquiridas \n",
    "e escreva o valor a ser pago pelo cliente.\n"
   ]
  },
  {
   "cell_type": "code",
   "execution_count": 9,
   "metadata": {},
   "outputs": [
    {
     "name": "stdout",
     "output_type": "stream",
     "text": [
      "Digite o kgs de maça: 5\n",
      "Digite o kgs de morango: 2\n",
      "Total gasto com maça: R$9.0\n",
      "Total gasto com morango:  R$5.0\n",
      "Valor total: R$14.0\n"
     ]
    }
   ],
   "source": [
    "maca = float(input(\"Digite o kgs de maça: \"))\n",
    "morango = float(input(\"Digite o kgs de morango: \"))\n",
    "\n",
    "if maca <= 5:\n",
    "    total_maca = maca * 1.8\n",
    "else:\n",
    "    total_maca = maca * 1.5\n",
    "\n",
    "if morango <= 5:\n",
    "    total_morango = morango * 2.5\n",
    "else:\n",
    "    total_morango = morango * 2.2\n",
    "    \n",
    "preco = total_morango + total_maca\n",
    "total_kg = maca + morango\n",
    "\n",
    "if(total_kg > 8 or preco > 25):\n",
    "    preco = preco * 0.9\n",
    "    \n",
    "print(f\"Total gasto com maça: R${total_maca}\")\n",
    "print(f\"Total gasto com morango:  R${total_morango}\")\n",
    "print(f\"Valor total: R${preco}\")\n"
   ]
  },
  {
   "cell_type": "markdown",
   "metadata": {},
   "source": [
    "13 - Faça um programa que peça uma nota, entre zero e dez. Mostre\n",
    "uma mensagem caso o valor seja inválido e continue pedindo até\n",
    "que o usuário informe um valor válido."
   ]
  },
  {
   "cell_type": "code",
   "execution_count": 58,
   "metadata": {},
   "outputs": [
    {
     "name": "stdout",
     "output_type": "stream",
     "text": [
      "Digite uma nota entre 0 e 10: -1\n",
      "Digite uma nota entre 0 e 10: 22\n",
      "Digite uma nota entre 0 e 10: 10\n"
     ]
    }
   ],
   "source": [
    "valid = True\n",
    "\n",
    "while valid:\n",
    "    nota = int(input(\"Digite uma nota entre 0 e 10: \"))    \n",
    "    if nota >= 0 and nota <= 10:\n",
    "        valid = not valid"
   ]
  },
  {
   "cell_type": "markdown",
   "metadata": {},
   "source": [
    "13.2 Faça um programa que leia e valide as seguintes informações:\n",
    "Nome: maior que 3 caracteres;\n",
    "Idade: entre 0 e 150;\n",
    "Salário: maior que zero;\n",
    "Sexo: 'f' ou 'm';\n",
    "Estado Civil: 's', 'c', 'v', 'd';"
   ]
  },
  {
   "cell_type": "code",
   "execution_count": 12,
   "metadata": {},
   "outputs": [
    {
     "name": "stdout",
     "output_type": "stream",
     "text": [
      "Digite o nome: Janaina\n",
      "Digite a idade: 21\n",
      "Digite o salario: 300\n",
      "Digite o sexo: F\n",
      "Digite o estado civil: S\n",
      "Dados inválidos\n"
     ]
    }
   ],
   "source": [
    "valid = True\n",
    "\n",
    "while valid:\n",
    "    nome = input(\"Digite o nome: \")\n",
    "    idade = int(input(\"Digite a idade: \"))\n",
    "    salario = float(input(\"Digite o salario: \"))\n",
    "    sexo = input(\"Digite o sexo: \")\n",
    "    est_civil = input(\"Digite o estado civil: \")\n",
    "    \n",
    "    if len(nome) > 3 and idade >= 0 and idade <= 150 and salario > 0 and sexo in 'fm' and est_civil in 'csvd':\n",
    "        print(\"Dados válidos\")\n",
    "    else:\n",
    "        valid = not valid \n",
    "        print(\"Dados inválidos\")\n"
   ]
  },
  {
   "cell_type": "markdown",
   "metadata": {},
   "source": [
    "14 - Faça um programa que leia 5 números e informe o maior número."
   ]
  },
  {
   "cell_type": "code",
   "execution_count": 68,
   "metadata": {},
   "outputs": [
    {
     "name": "stdout",
     "output_type": "stream",
     "text": [
      "Digite um valor: 5\n",
      "Digite um valor: 6\n",
      "Digite um valor: 3\n",
      "Digite um valor: 7\n",
      "Digite um valor: 8\n",
      "O maior número é:  8\n"
     ]
    }
   ],
   "source": [
    "soma = []\n",
    "\n",
    "for _ in range(5):\n",
    "    soma += input(\"Digite um valor: \")\n",
    "\n",
    "print(\"O maior número é: \", max(soma))"
   ]
  },
  {
   "cell_type": "markdown",
   "metadata": {},
   "source": [
    "15. Faça um programa que leia 5 números e informe a soma e a\n",
    "média dos números."
   ]
  },
  {
   "cell_type": "code",
   "execution_count": 13,
   "metadata": {},
   "outputs": [
    {
     "name": "stdout",
     "output_type": "stream",
     "text": [
      "Digite um valor5\n",
      "Digite um valor6\n",
      "Digite um valor2\n",
      "Digite um valor5\n",
      "Digite um valor1\n",
      "Somatório:  19.0\n",
      "Média:  3.8\n"
     ]
    }
   ],
   "source": [
    "soma = 0\n",
    "\n",
    "for _ in range(5):\n",
    "    soma += float(input(\"Digite um valor\"))\n",
    "    \n",
    "print(\"Somatório: \", soma)\n",
    "print(\"Média: \", soma / 5)\n"
   ]
  },
  {
   "cell_type": "markdown",
   "metadata": {},
   "source": [
    "16 - Faça um programa que imprima na tela apenas os números\n",
    "ímpares entre 1 e 50."
   ]
  },
  {
   "cell_type": "code",
   "execution_count": 83,
   "metadata": {},
   "outputs": [
    {
     "name": "stdout",
     "output_type": "stream",
     "text": [
      "1\n",
      "3\n",
      "5\n",
      "7\n",
      "9\n",
      "11\n",
      "13\n",
      "15\n",
      "17\n",
      "19\n",
      "21\n",
      "23\n",
      "25\n",
      "27\n",
      "29\n",
      "31\n",
      "33\n",
      "35\n",
      "37\n",
      "39\n",
      "41\n",
      "43\n",
      "45\n",
      "47\n",
      "49\n"
     ]
    }
   ],
   "source": [
    "i = 0\n",
    "for i in range(50):\n",
    "    valor = i+1    \n",
    "    if (valor % 2) > 0 or (valor % 2) < 0:\n",
    "        print(valor)\n",
    "    \n",
    "        "
   ]
  },
  {
   "cell_type": "markdown",
   "metadata": {},
   "source": [
    "17. Desenvolva um gerador de tabuada, capaz de gerar a tabuada\n",
    "de qualquer número inteiro entre 1 a 10. O usuário deve informar\n",
    "de qual numero ele deseja ver a tabuada. A saída deve ser\n",
    "conforme o exemplo abaixo:\n",
    "Tabuada de 5:\n",
    "5 X 1 = 5\n",
    "5 X 2 = 10\n",
    "...\n",
    "5 X 10 = 50"
   ]
  },
  {
   "cell_type": "code",
   "execution_count": 84,
   "metadata": {
    "scrolled": true
   },
   "outputs": [
    {
     "name": "stdout",
     "output_type": "stream",
     "text": [
      "Digite um valor entre 1 e 10: 5\n",
      "5x1=5\n",
      "5x2=10\n",
      "5x3=15\n",
      "5x4=20\n",
      "5x5=25\n",
      "5x6=30\n",
      "5x7=35\n",
      "5x8=40\n",
      "5x9=45\n",
      "5x10=50\n"
     ]
    }
   ],
   "source": [
    "valid = True\n",
    "\n",
    "while(valid):\n",
    "    valor = int(input(\"Digite um valor entre 1 e 10: \"))\n",
    "    if(valor >= 1 and valor <= 10):\n",
    "        valid = not valid\n",
    "\n",
    "for i in range(10):\n",
    "    n = i + 1\n",
    "    print(f\"{valor}x{n}={valor*n}\")\n"
   ]
  },
  {
   "cell_type": "markdown",
   "metadata": {},
   "source": [
    "18 - A série de Fibonacci é formada pela seqüência\n",
    "1,1,2,3,5,8,13,21,34,55,... Faça um programa capaz de gerar a série\n",
    "até o n−ésimo termo."
   ]
  },
  {
   "cell_type": "code",
   "execution_count": null,
   "metadata": {},
   "outputs": [],
   "source": [
    "\n"
   ]
  }
 ],
 "metadata": {
  "kernelspec": {
   "display_name": "Python 3",
   "language": "python",
   "name": "python3"
  },
  "language_info": {
   "codemirror_mode": {
    "name": "ipython",
    "version": 3
   },
   "file_extension": ".py",
   "mimetype": "text/x-python",
   "name": "python",
   "nbconvert_exporter": "python",
   "pygments_lexer": "ipython3",
   "version": "3.6.5"
  }
 },
 "nbformat": 4,
 "nbformat_minor": 2
}
