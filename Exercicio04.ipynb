{
 "cells": [
  {
   "cell_type": "markdown",
   "metadata": {},
   "source": [
    "## Lista 04\n",
    "### Linguagens e Paradigmas de Programação\n",
    "\n",
    "Janaina Emilia\n",
    "<br /> <b>RA</b> 816114781"
   ]
  },
  {
   "cell_type": "markdown",
   "metadata": {},
   "source": [
    "01 - Menor de dois pares: Escreva uma função que retorne o menor de dois números\n",
    "dados se ambos os números forem pares, mas retorna o maior se um dos dois for\n",
    "ímpar. Exemplo:\n",
    "- menor_de_dois_pares(2,4) --> 2\n",
    "- menor_de_dois_pares (2,5) --> 5\n"
   ]
  },
  {
   "cell_type": "code",
   "execution_count": 1,
   "metadata": {},
   "outputs": [
    {
     "name": "stdout",
     "output_type": "stream",
     "text": [
      "12\n"
     ]
    }
   ],
   "source": [
    "def menor_de_dois_pares(a, b):\n",
    "    if a == b:\n",
    "        return \"Os valores são iguais\"\n",
    "    elif a > b:\n",
    "        return a\n",
    "    else:\n",
    "        return b\n",
    "    \n",
    "print(menor_de_dois_pares(1,12))\n"
   ]
  },
  {
   "cell_type": "markdown",
   "metadata": {},
   "source": [
    "02 - Mesma letra: Escreva uma função que receba uma string com duas palavras e\n",
    "retorne True se ambas palavras começarem com a mesma letra. Exemplo:\n",
    "- mesma_letra('Cão covarde') -> True\n",
    "- mesma_letra('Vira Lata') -> False"
   ]
  },
  {
   "cell_type": "code",
   "execution_count": 2,
   "metadata": {},
   "outputs": [
    {
     "name": "stdout",
     "output_type": "stream",
     "text": [
      "True\n"
     ]
    }
   ],
   "source": [
    "#Versao 1\n",
    "#def mesma_letra(msg):\n",
    "#    msg = msg.split(\" \")\n",
    "#    if(msg[0][0].upper() == msg[1][0].upper()):\n",
    "#        return True\n",
    "#    return False\n",
    "\n",
    "#print(mesma_letra(\"Vira Lata\"))\n",
    "\n",
    "#Versao 2 - Utilizando operador ternário\n",
    "def mesma_letra(msg):\n",
    "    partes = msg.split(\" \")\n",
    "    return True if partes[0][0].upper() == partes[1][0].upper() else False\n",
    "\n",
    "print(mesma_letra(\"Vira Vira\"))"
   ]
  },
  {
   "cell_type": "markdown",
   "metadata": {},
   "source": [
    "03 - Mestre Yoda: Dada uma sentença, a função deve retornar a sentença com as\n",
    "palavras na ordem reversa. Exemplo:\n",
    "- mestre_yoda('Eu estou em casa') --> 'casa em estou Eu'\n",
    "- mestre_yoda('Estamos prontos') --> 'prontos Estamos'\n"
   ]
  },
  {
   "cell_type": "code",
   "execution_count": 3,
   "metadata": {},
   "outputs": [
    {
     "name": "stdout",
     "output_type": "stream",
     "text": [
      "casa em estou Eu\n"
     ]
    }
   ],
   "source": [
    "def mestre_yoda(frase):\n",
    "    return [i for i in reversed(frase.split(' '))]\n",
    "\n",
    "print(\" \".join(map(str,mestre_yoda('Eu estou em casa'))))\n"
   ]
  },
  {
   "cell_type": "markdown",
   "metadata": {},
   "source": [
    "04 - Tem 33: Faça uma função que retorne True se, dada uma lista de inteiros, houver\n",
    "em alguma posição da lista um 3 do lado de outro 3. Exemplo:\n",
    "- tem_33([1,3,3]) --> True\n",
    "- tem_33([1,3,1,3]) --> False\n",
    "- tem_33([3,1,3]) --> False\n"
   ]
  },
  {
   "cell_type": "code",
   "execution_count": 6,
   "metadata": {},
   "outputs": [
    {
     "name": "stdout",
     "output_type": "stream",
     "text": [
      "False\n"
     ]
    }
   ],
   "source": [
    "def tem_33(lista):\n",
    "    status = \"Nada\"\n",
    "    for simbolo in lista:\n",
    "        if simbolo == 3:\n",
    "            if status == \"Nada\":\n",
    "                status = \"3\"\n",
    "            elif status == \"3\":\n",
    "                return True\n",
    "        else:\n",
    "            if status == \"3\":\n",
    "                status = \"Nada\"\n",
    "    return False\n",
    "    \n",
    "print(tem_33([1,3,1,3]))"
   ]
  },
  {
   "cell_type": "markdown",
   "metadata": {},
   "source": [
    "05 - Blackjack: Faça uma função que receba 3 inteiros entre 1 e 11. Se a soma deles for\n",
    "menor que 21, retorne o valor da soma. Se for mair do que 21 e houver um 11, \n",
    "subtraia 10 da soma antes de apresentar o resultado. Se o valor da soma passar de\n",
    "21, retorne ‘ESTOUROU’. Exemplo:\n",
    "- blackjack(5,6,7) --> 18\n",
    "- blackjack(9,9,9) --> 'ESTOUROU'\n",
    "- blackjack(9,9,11) --> 19"
   ]
  },
  {
   "cell_type": "code",
   "execution_count": 8,
   "metadata": {},
   "outputs": [
    {
     "name": "stdout",
     "output_type": "stream",
     "text": [
      "21\n"
     ]
    }
   ],
   "source": [
    "def blackjack(a, b, c):\n",
    "    soma = a + b + c\n",
    "    \n",
    "    if soma <= 21:\n",
    "        return soma\n",
    "    else:\n",
    "        if soma > 21:\n",
    "            if 11 in [a,b,c]:\n",
    "                return soma - 11\n",
    "            else:\n",
    "                return \"Estourou\"\n",
    "    \n",
    "print(blackjack(10,1,10))\n"
   ]
  },
  {
   "cell_type": "markdown",
   "metadata": {},
   "source": [
    "06 - Espião: Escreva uma função que receba uma lista de\n",
    "inteiros e retorne True se contém um 007 em ordem, mesmo\n",
    "que não contínuo. Exemplo:\n",
    "- espiao([1,2,4,0,0,7,5]) --> True\n",
    "- espiao([1,0,2,4,0,5,7]) --> True\n",
    "- espiao([1,7,2,4,0,5,0]) --> False"
   ]
  },
  {
   "cell_type": "code",
   "execution_count": 9,
   "metadata": {},
   "outputs": [
    {
     "name": "stdout",
     "output_type": "stream",
     "text": [
      "True\n",
      "True\n",
      "False\n"
     ]
    }
   ],
   "source": [
    "def espiao(lista):\n",
    "    status = \"Nada\"\n",
    "    \n",
    "    for i in lista:\n",
    "        if i == 0:\n",
    "            if status == \"Nada\":\n",
    "                status = \"0\"\n",
    "            else:\n",
    "                if status == \"0\":\n",
    "                    status = \"00\"\n",
    "        elif i == 7:\n",
    "            if status == \"00\":\n",
    "                return True\n",
    "    return False\n",
    "\n",
    "    \n",
    "print(espiao([1,2,4,0,0,7,5]))\n",
    "print(espiao([1,0,2,4,0,5,7]))\n",
    "print(espiao([1,7,2,4,0,5,0]))"
   ]
  }
 ],
 "metadata": {
  "kernelspec": {
   "display_name": "Python 3",
   "language": "python",
   "name": "python3"
  },
  "language_info": {
   "codemirror_mode": {
    "name": "ipython",
    "version": 3
   },
   "file_extension": ".py",
   "mimetype": "text/x-python",
   "name": "python",
   "nbconvert_exporter": "python",
   "pygments_lexer": "ipython3",
   "version": "3.6.5"
  }
 },
 "nbformat": 4,
 "nbformat_minor": 2
}
